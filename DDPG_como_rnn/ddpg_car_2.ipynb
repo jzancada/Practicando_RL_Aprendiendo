{
 "cells": [
  {
   "cell_type": "code",
   "execution_count": 23,
   "metadata": {
    "executionInfo": {
     "elapsed": 988,
     "status": "ok",
     "timestamp": 1607693408358,
     "user": {
      "displayName": "Jose Zancada",
      "photoUrl": "https://lh3.googleusercontent.com/a-/AOh14GgUqwetssp3WDwHytWK2v1lsnWTW1yZHcSb_5NBtQ=s64",
      "userId": "01299264758485122813"
     },
     "user_tz": -60
    },
    "id": "FvzuUeEiGOi_"
   },
   "outputs": [],
   "source": [
    "import os\n",
    "import numpy as np\n",
    "import matplotlib.pyplot as plt\n",
    "import torch as T\n",
    "import torch.nn as nn\n",
    "import torch.nn.functional as F\n",
    "import torch.optim as optim\n",
    "\n",
    "import pandas as pd\n",
    "from datetime import datetime\n",
    "import time"
   ]
  },
  {
   "cell_type": "markdown",
   "metadata": {
    "id": "x834i-dQz26O"
   },
   "source": [
    "## Agent"
   ]
  },
  {
   "cell_type": "code",
   "execution_count": 24,
   "metadata": {
    "executionInfo": {
     "elapsed": 1214,
     "status": "ok",
     "timestamp": 1607693408593,
     "user": {
      "displayName": "Jose Zancada",
      "photoUrl": "https://lh3.googleusercontent.com/a-/AOh14GgUqwetssp3WDwHytWK2v1lsnWTW1yZHcSb_5NBtQ=s64",
      "userId": "01299264758485122813"
     },
     "user_tz": -60
    },
    "id": "k0s5rFl0ztIF"
   },
   "outputs": [],
   "source": [
    "class Agent():\n",
    "    def __init__(self, alpha, beta, input_dims, tau, n_actions, gamma=0.99,\n",
    "                 max_size=1000000, fc1_dims=400, fc2_dims=300, \n",
    "                 batch_size=64):\n",
    "        self.gamma = gamma\n",
    "        self.tau = tau\n",
    "        self.batch_size = batch_size\n",
    "        self.alpha = alpha\n",
    "        self.beta = beta\n",
    "\n",
    "        self.memory = ReplayBuffer(max_size, input_dims, n_actions)\n",
    "\n",
    "        self.noise = OUActionNoise(mu=np.zeros(n_actions))\n",
    "\n",
    "        self.actor = ActorNetwork(alpha, input_dims, fc1_dims, fc2_dims,\n",
    "                                n_actions=n_actions, name='actor', \n",
    "                                chkpt_dir = DIRECTORIO_BASE+'/tmp/ddpg')\n",
    "        self.critic = CriticNetwork(beta, input_dims, fc1_dims, fc2_dims,\n",
    "                                n_actions=n_actions, name='critic', \n",
    "                                chkpt_dir = DIRECTORIO_BASE+'/tmp/ddpg')\n",
    "\n",
    "        self.target_actor = ActorNetwork(alpha, input_dims, fc1_dims, fc2_dims,\n",
    "                                n_actions=n_actions, name='target_actor',\n",
    "                                chkpt_dir = DIRECTORIO_BASE+'/tmp/ddpg')\n",
    "\n",
    "        self.target_critic = CriticNetwork(beta, input_dims, fc1_dims, fc2_dims,\n",
    "                                n_actions=n_actions, name='target_critic',\n",
    "                                 chkpt_dir = DIRECTORIO_BASE+'/tmp/ddpg')\n",
    "\n",
    "        self.update_network_parameters(tau=1)\n",
    "\n",
    "    def choose_action(self, observation):\n",
    "        self.actor.eval()\n",
    "        state = T.tensor([observation], dtype=T.float).to(self.actor.device)\n",
    "        mu = self.actor.forward(state).to(self.actor.device)\n",
    "        mu_prime = mu + T.tensor(self.noise(), \n",
    "                                    dtype=T.float).to(self.actor.device)\n",
    "        self.actor.train()\n",
    "\n",
    "        return mu_prime.cpu().detach().numpy()[0]\n",
    "\n",
    "    def remember(self, state, action, reward, state_, done):\n",
    "        self.memory.store_transition(state, action, reward, state_, done)\n",
    "\n",
    "    def save_models(self):\n",
    "        self.actor.save_checkpoint()\n",
    "        self.target_actor.save_checkpoint()\n",
    "        self.critic.save_checkpoint()\n",
    "        self.target_critic.save_checkpoint()\n",
    "\n",
    "    def load_models(self):\n",
    "        self.actor.load_checkpoint()\n",
    "        self.target_actor.load_checkpoint()\n",
    "        self.critic.load_checkpoint()\n",
    "        self.target_critic.load_checkpoint()\n",
    "\n",
    "    def learn(self):\n",
    "        if self.memory.mem_cntr < self.batch_size:\n",
    "            return\n",
    "\n",
    "        states, actions, rewards, states_, done = \\\n",
    "                self.memory.sample_buffer(self.batch_size)\n",
    "\n",
    "        states = T.tensor(states, dtype=T.float).to(self.actor.device)\n",
    "        states_ = T.tensor(states_, dtype=T.float).to(self.actor.device)\n",
    "        actions = T.tensor(actions, dtype=T.float).to(self.actor.device)\n",
    "        rewards = T.tensor(rewards, dtype=T.float).to(self.actor.device)\n",
    "        done = T.tensor(done).to(self.actor.device)\n",
    "\n",
    "        target_actions = self.target_actor.forward(states_)\n",
    "        critic_value_ = self.target_critic.forward(states_, target_actions)\n",
    "        critic_value = self.critic.forward(states, actions)\n",
    "\n",
    "        critic_value_[done] = 0.0\n",
    "        critic_value_ = critic_value_.view(-1)\n",
    "\n",
    "        target = rewards + self.gamma*critic_value_\n",
    "        target = target.view(self.batch_size, 1)\n",
    "\n",
    "        self.critic.optimizer.zero_grad()\n",
    "        critic_loss = F.mse_loss(target, critic_value)\n",
    "        critic_loss.backward()\n",
    "        self.critic.optimizer.step()\n",
    "\n",
    "        self.actor.optimizer.zero_grad()\n",
    "        actor_loss = -self.critic.forward(states, self.actor.forward(states))\n",
    "        actor_loss = T.mean(actor_loss)\n",
    "        actor_loss.backward()\n",
    "        self.actor.optimizer.step()\n",
    "\n",
    "        self.update_network_parameters()\n",
    "\n",
    "    def update_network_parameters(self, tau=None):\n",
    "        if tau is None:\n",
    "            tau = self.tau\n",
    "\n",
    "        actor_params = self.actor.named_parameters()\n",
    "        critic_params = self.critic.named_parameters()\n",
    "        target_actor_params = self.target_actor.named_parameters()\n",
    "        target_critic_params = self.target_critic.named_parameters()\n",
    "\n",
    "        critic_state_dict = dict(critic_params)\n",
    "        actor_state_dict = dict(actor_params)\n",
    "        target_critic_state_dict = dict(target_critic_params)\n",
    "        target_actor_state_dict = dict(target_actor_params)\n",
    "\n",
    "        for name in critic_state_dict:\n",
    "            critic_state_dict[name] = tau*critic_state_dict[name].clone() + \\\n",
    "                                (1-tau)*target_critic_state_dict[name].clone()\n",
    "\n",
    "        for name in actor_state_dict:\n",
    "             actor_state_dict[name] = tau*actor_state_dict[name].clone() + \\\n",
    "                                 (1-tau)*target_actor_state_dict[name].clone()\n",
    "\n",
    "        self.target_critic.load_state_dict(critic_state_dict)\n",
    "        self.target_actor.load_state_dict(actor_state_dict)\n",
    "        #self.target_critic.load_state_dict(critic_state_dict, strict=False)\n",
    "        #self.target_actor.load_state_dict(actor_state_dict, strict=False)"
   ]
  },
  {
   "cell_type": "markdown",
   "metadata": {
    "id": "ZT46EdEGgx7A"
   },
   "source": [
    "## Precios red\n",
    "Lee fichero csv de precios de red descargados.\n",
    "\n",
    "Hay varios identificadores.\n",
    "Se selecciona el identificador 1014\n",
    "\n",
    "**Todo** Problema con la hora verano/invierno (+01, +02) que no se está teniendo en cuenta"
   ]
  },
  {
   "cell_type": "code",
   "execution_count": 25,
   "metadata": {
    "executionInfo": {
     "elapsed": 1210,
     "status": "ok",
     "timestamp": 1607693408595,
     "user": {
      "displayName": "Jose Zancada",
      "photoUrl": "https://lh3.googleusercontent.com/a-/AOh14GgUqwetssp3WDwHytWK2v1lsnWTW1yZHcSb_5NBtQ=s64",
      "userId": "01299264758485122813"
     },
     "user_tz": -60
    },
    "id": "b5zQHfpXgB73"
   },
   "outputs": [],
   "source": [
    "class Precios_red():\n",
    "    def __init__(self):\n",
    "        filename = '/content/drive/MyDrive/Colab_Notebooks/DDPG/export_PrecioDeLaEnergíaExcedentariaDelAutoconsumoParaElMecanismoDeCompensaciónSimplificada (PVPC)_2020-12-07_22_18.csv'\n",
    "        filename = 'export_PrecioDeLaEnergíaExcedentariaDelAutoconsumoParaElMecanismoDeCompensaciónSimplificada (PVPC)_2020-12-07_22_18.csv'\n",
    "\n",
    "        df = pd.read_csv(filename, sep=';')\n",
    "        # view head\n",
    "        # df2 = df[df['id']==1739]\n",
    "        # df2 = df[df['id']==1013]\n",
    "        # df2 = df[df['id']==1014]\n",
    "        df2 = df[df['id']==1015]\n",
    "\n",
    "        datetime_v = df2['datetime'].values\n",
    "        datetime = np.array([self.convert_datetime_str(date_str) for date_str in datetime_v])\n",
    "        datetime = datetime - datetime[0]\n",
    "        self.datetime_hour = datetime / (60*60)\n",
    "        self.value    = np.array(df2['value'].values)\n",
    "\n",
    "    def convert_datetime_str(self, date_time_str):\n",
    "        str_split = date_time_str.split(sep='T')\n",
    "        str_0 = str_split[0]\n",
    "        str_0_split = str_0.split('-')\n",
    "        year  = int(str_0_split[0])\n",
    "        month = int(str_0_split[1])\n",
    "        day   = int(str_0_split[2])\n",
    "        str_1 = str_split[1]\n",
    "        str_1_split = str_1.split(':')\n",
    "        hour = int(str_1_split[0])\n",
    "\n",
    "        a = time.struct_time((year, month, day, hour, 0, 0,0,0,0,'Romance Standard Time',3600))\n",
    "        x = time.mktime(a)\n",
    "        return x"
   ]
  },
  {
   "cell_type": "markdown",
   "metadata": {
    "id": "RroyRmTkghV2"
   },
   "source": [
    "## Env"
   ]
  },
  {
   "cell_type": "code",
   "execution_count": 26,
   "metadata": {
    "executionInfo": {
     "elapsed": 1206,
     "status": "ok",
     "timestamp": 1607693408596,
     "user": {
      "displayName": "Jose Zancada",
      "photoUrl": "https://lh3.googleusercontent.com/a-/AOh14GgUqwetssp3WDwHytWK2v1lsnWTW1yZHcSb_5NBtQ=s64",
      "userId": "01299264758485122813"
     },
     "user_tz": -60
    },
    "id": "oNOwvCeZgc4i"
   },
   "outputs": [],
   "source": [
    "import numpy as np\n",
    "\n",
    "class Env2():\n",
    "    # cada 15 minutos\n",
    "    def __init__(self):\n",
    "        self.Q = 24\n",
    "        self.N_T = 24\n",
    "        self.q_space=np.linspace(0,self.Q)\n",
    "        self.a_space=np.array([-3,-1,0,1,3])\n",
    "        self.t_space = np.linspace(0,23,24)\n",
    "        self.t_final_epoch = 0\n",
    "        self.precios_red = Precios_red()\n",
    "        self.t_precios_red_t0 = 0\n",
    "        self.obs = self.reset()\n",
    "        self.info = []\n",
    "\n",
    "    def set_obs(self, t_0, q_0):\n",
    "        dia = np.linspace(0,23,24, dtype=int)\n",
    "        x = np.zeros((25,))\n",
    "        x[0] = q_0\n",
    "        x[1:25] = self.precios_red.value[ int(t_0) + dia ]\n",
    "        return x\n",
    "\n",
    "    def reset(self):\n",
    "        # se coge un dia aleatorio\n",
    "        self.t_precios_red_t0 = int(np.random.uniform(0,650))*24\n",
    "        self.t = self.t_precios_red_t0\n",
    "        self.q = np.random.choice(self.q_space)\n",
    "        # se fuerza a cero\n",
    "        # self.q = 0 ################\n",
    "        self.t_final_epoch = 24*30 + self.t\n",
    "        return self.set_obs(self.t, self.q)\n",
    "\n",
    "    # fija un estado (q)\n",
    "    def reset_fix_q_0(self, q_0):\n",
    "        self.t = self.t_precios_red_t0\n",
    "        self.q = q_0\n",
    "        self.obs = self.set_obs(self.t, self.q)\n",
    "        return self.obs \n",
    "\n",
    "    # fija un estado (q)\n",
    "    def reset_fix_t_q_0(self, t_0, q_0):\n",
    "        self.reset_fix_q_0 (q_0)\n",
    "        self.t = t_0 # ojo que reset_fix_q_0 pisa\n",
    "        self.obs = self.set_obs(self.t, self.q)\n",
    "        return self.obs \n",
    "\n",
    "    def step(self, action):\n",
    "        penalizacion_q = 0\n",
    "        done = False\n",
    "\n",
    "        action = action[0] * 1.5 # 6 Ah\n",
    "        # q_action = self.a_space[action]\n",
    "        q_action = action\n",
    "\n",
    "        t_ = self.t + 1 /4\n",
    "\n",
    "        # la accion es continua\n",
    "        q_ = self.q + q_action\n",
    "\n",
    "        if (q_ > self.Q):\n",
    "            penalizacion_q = -5\n",
    "            q_ = self.Q\n",
    "\n",
    "        if (q_ < 0):\n",
    "            penalizacion_q = -5\n",
    "            q_ = 0\n",
    "\n",
    "        delta_q = q_ - self.q\n",
    "\n",
    "        # precio\n",
    "        reward = -self.precios_red.value[ int(self.t) ] * delta_q + penalizacion_q\n",
    "\n",
    "        # consumo bateria. para todas las acciones excepto para accion ==2\n",
    "        reward -= np.abs(delta_q)*2\n",
    "        # fin consumo bateria\n",
    "\n",
    "        # se actualizan \n",
    "        self.t = t_\n",
    "        self.q = q_\n",
    "        self.obs = self.set_obs(self.t, self.q)\n",
    "\n",
    "        # batch\n",
    "        if t_ > self.t_final_epoch:\n",
    "            done = True\n",
    "\n",
    "        return  self.obs, reward, done, self.info"
   ]
  },
  {
   "cell_type": "markdown",
   "metadata": {
    "id": "YhOBjouEjaJr"
   },
   "source": [
    "## Buffer"
   ]
  },
  {
   "cell_type": "code",
   "execution_count": 27,
   "metadata": {
    "executionInfo": {
     "elapsed": 1204,
     "status": "ok",
     "timestamp": 1607693408597,
     "user": {
      "displayName": "Jose Zancada",
      "photoUrl": "https://lh3.googleusercontent.com/a-/AOh14GgUqwetssp3WDwHytWK2v1lsnWTW1yZHcSb_5NBtQ=s64",
      "userId": "01299264758485122813"
     },
     "user_tz": -60
    },
    "id": "1qWVtZGXjbXD"
   },
   "outputs": [],
   "source": [
    "class ReplayBuffer():\n",
    "    def __init__(self, max_size, input_shape, n_actions):\n",
    "        self.mem_size = max_size\n",
    "        self.mem_cntr = 0\n",
    "        self.state_memory = np.zeros((self.mem_size, *input_shape))\n",
    "        self.new_state_memory = np.zeros((self.mem_size, *input_shape))\n",
    "        self.action_memory = np.zeros((self.mem_size, n_actions))\n",
    "        self.reward_memory = np.zeros(self.mem_size)\n",
    "        self.terminal_memory = np.zeros(self.mem_size, dtype=np.bool)\n",
    "\n",
    "    def store_transition(self, state, action, reward, state_, done):\n",
    "        index = self.mem_cntr % self.mem_size\n",
    "        self.state_memory[index] = state\n",
    "        self.action_memory[index] = action\n",
    "        self.reward_memory[index] = reward\n",
    "        self.new_state_memory[index] = state_\n",
    "        self.terminal_memory[index] = done\n",
    "\n",
    "        self.mem_cntr += 1\n",
    "\n",
    "    def sample_buffer(self, batch_size):\n",
    "        max_mem = min(self.mem_cntr, self.mem_size)\n",
    "\n",
    "        batch = np.random.choice(max_mem, batch_size)\n",
    "\n",
    "        states = self.state_memory[batch]\n",
    "        actions = self.action_memory[batch]\n",
    "        rewards = self.reward_memory[batch]\n",
    "        states_ = self.new_state_memory[batch]\n",
    "        dones = self.terminal_memory[batch]\n",
    "\n",
    "        return states, actions, rewards, states_, dones"
   ]
  },
  {
   "cell_type": "markdown",
   "metadata": {
    "id": "17W2ap4Jjj5S"
   },
   "source": [
    "\n",
    "## OUActionNoise\n",
    "\n"
   ]
  },
  {
   "cell_type": "code",
   "execution_count": 28,
   "metadata": {
    "executionInfo": {
     "elapsed": 1200,
     "status": "ok",
     "timestamp": 1607693408599,
     "user": {
      "displayName": "Jose Zancada",
      "photoUrl": "https://lh3.googleusercontent.com/a-/AOh14GgUqwetssp3WDwHytWK2v1lsnWTW1yZHcSb_5NBtQ=s64",
      "userId": "01299264758485122813"
     },
     "user_tz": -60
    },
    "id": "L-inqsmGjqDi"
   },
   "outputs": [],
   "source": [
    "class OUActionNoise():\n",
    "    def __init__(self, mu, sigma=0.15, theta=0.2, dt=1e-2, x0=None):\n",
    "        self.theta = theta\n",
    "        self.mu = mu\n",
    "        self.sigma = sigma\n",
    "        self.dt = dt\n",
    "        self.x0 = x0\n",
    "        self.reset()\n",
    "\n",
    "    def __call__(self):\n",
    "        x = self.x_prev + self.theta * (self.mu - self.x_prev) * self.dt + \\\n",
    "                self.sigma * np.sqrt(self.dt) * np.random.normal(size=self.mu.shape)\n",
    "        self.x_prev = x\n",
    "\n",
    "        return x\n",
    "\n",
    "    def reset(self):\n",
    "        self.x_prev = self.x0 if self.x0 is not None else np.zeros_like(self.mu)"
   ]
  },
  {
   "cell_type": "markdown",
   "metadata": {
    "id": "oC3w7V4tj92D"
   },
   "source": [
    "## ActorNetwork"
   ]
  },
  {
   "cell_type": "code",
   "execution_count": 29,
   "metadata": {
    "executionInfo": {
     "elapsed": 1443,
     "status": "ok",
     "timestamp": 1607693408847,
     "user": {
      "displayName": "Jose Zancada",
      "photoUrl": "https://lh3.googleusercontent.com/a-/AOh14GgUqwetssp3WDwHytWK2v1lsnWTW1yZHcSb_5NBtQ=s64",
      "userId": "01299264758485122813"
     },
     "user_tz": -60
    },
    "id": "W_c7y9eVj-9O"
   },
   "outputs": [],
   "source": [
    "class CriticNetwork(nn.Module):\n",
    "    def __init__(self, beta, input_dims, fc1_dims, fc2_dims, n_actions, name,\n",
    "                 chkpt_dir='tmp/ddpg'):\n",
    "        super(CriticNetwork, self).__init__()\n",
    "        self.input_dims = input_dims\n",
    "        self.fc1_dims = fc1_dims\n",
    "        self.fc2_dims = fc2_dims\n",
    "        self.n_actions = n_actions\n",
    "        self.name = name\n",
    "        self.checkpoint_dir = chkpt_dir\n",
    "        self.checkpoint_file = os.path.join(self.checkpoint_dir, name+'_ddpg')\n",
    "\n",
    "        self.fc1 = nn.Linear(*self.input_dims, self.fc1_dims)\n",
    "        self.fc2 = nn.Linear(self.fc1_dims, self.fc2_dims)\n",
    "\n",
    "        self.bn1 = nn.LayerNorm(self.fc1_dims)\n",
    "        self.bn2 = nn.LayerNorm(self.fc2_dims)\n",
    "        #self.bn1 = nn.BatchNorm1d(self.fc1_dims)\n",
    "        #self.bn2 = nn.BatchNorm1d(self.fc2_dims)\n",
    "\n",
    "        self.action_value = nn.Linear(self.n_actions, self.fc2_dims)\n",
    "        \n",
    "        self.q = nn.Linear(self.fc2_dims, 1)\n",
    "\n",
    "        f1 = 1./np.sqrt(self.fc1.weight.data.size()[0])\n",
    "        self.fc1.weight.data.uniform_(-f1, f1)\n",
    "        self.fc1.bias.data.uniform_(-f1, f1)\n",
    "\n",
    "        f2 = 1./np.sqrt(self.fc2.weight.data.size()[0])\n",
    "        self.fc2.weight.data.uniform_(-f2, f2)\n",
    "        self.fc2.bias.data.uniform_(-f2, f2)\n",
    "\n",
    "        f3 = 0.003\n",
    "        self.q.weight.data.uniform_(-f3, f3)\n",
    "        self.q.bias.data.uniform_(-f3, f3)\n",
    "\n",
    "        f4 = 1./np.sqrt(self.action_value.weight.data.size()[0])\n",
    "        self.action_value.weight.data.uniform_(-f4, f4)\n",
    "        self.action_value.bias.data.uniform_(-f4, f4)\n",
    "\n",
    "        self.optimizer = optim.Adam(self.parameters(), lr=beta,\n",
    "                                    weight_decay=0.01)\n",
    "        self.device = T.device('cuda:0' if T.cuda.is_available() else 'cpu')\n",
    "\n",
    "        self.to(self.device)\n",
    "\n",
    "    def forward(self, state, action):\n",
    "        state_value = self.fc1(state)\n",
    "        state_value = self.bn1(state_value)\n",
    "        state_value = F.relu(state_value)\n",
    "        state_value = self.fc2(state_value)\n",
    "        state_value = self.bn2(state_value)\n",
    "        #state_value = F.relu(state_value)\n",
    "        #action_value = F.relu(self.action_value(action))\n",
    "        action_value = self.action_value(action)\n",
    "        state_action_value = F.relu(T.add(state_value, action_value))\n",
    "        #state_action_value = T.add(state_value, action_value)\n",
    "        state_action_value = self.q(state_action_value)\n",
    "\n",
    "        return state_action_value\n",
    "\n",
    "    def save_checkpoint(self):\n",
    "        print('... saving checkpoint ...')\n",
    "        T.save(self.state_dict(), self.checkpoint_file)\n",
    "\n",
    "    def load_checkpoint(self):\n",
    "        print('... loading checkpoint ...')\n",
    "        self.load_state_dict(T.load(self.checkpoint_file))\n",
    "\n",
    "    def save_best(self):\n",
    "        print('... saving best checkpoint ...')\n",
    "        checkpoint_file = os.path.join(self.checkpoint_dir, self.name+'_best')\n",
    "        T.save(self.state_dict(), checkpoint_file)\n",
    "\n",
    "class ActorNetwork(nn.Module):\n",
    "    def __init__(self, alpha, input_dims, fc1_dims, fc2_dims, n_actions, name,\n",
    "                 chkpt_dir='tmp/ddpg'):\n",
    "        super(ActorNetwork, self).__init__()\n",
    "        self.input_dims = input_dims\n",
    "        self.fc1_dims = fc1_dims\n",
    "        self.fc2_dims = fc2_dims\n",
    "        self.n_actions = n_actions\n",
    "        self.name = name\n",
    "        self.checkpoint_dir = chkpt_dir\n",
    "        self.checkpoint_file = os.path.join(self.checkpoint_dir, name+'_ddpg')\n",
    "\n",
    "        self.fc1 = nn.Linear(*self.input_dims, self.fc1_dims)\n",
    "        self.fc2 = nn.Linear(self.fc1_dims, self.fc2_dims)\n",
    "\n",
    "        self.bn1 = nn.LayerNorm(self.fc1_dims)\n",
    "        self.bn2 = nn.LayerNorm(self.fc2_dims)\n",
    "\n",
    "        #self.bn1 = nn.BatchNorm1d(self.fc1_dims)\n",
    "        #self.bn2 = nn.BatchNorm1d(self.fc2_dims)\n",
    "\n",
    "        self.mu = nn.Linear(self.fc2_dims, self.n_actions)\n",
    "\n",
    "        f2 = 1./np.sqrt(self.fc2.weight.data.size()[0])\n",
    "        self.fc2.weight.data.uniform_(-f2, f2)\n",
    "        self.fc2.bias.data.uniform_(-f2, f2)\n",
    "\n",
    "        f1 = 1./np.sqrt(self.fc1.weight.data.size()[0])\n",
    "        self.fc1.weight.data.uniform_(-f1, f1)\n",
    "        self.fc1.bias.data.uniform_(-f1, f1)\n",
    "\n",
    "        f3 = 0.003\n",
    "        self.mu.weight.data.uniform_(-f3, f3)\n",
    "        self.mu.bias.data.uniform_(-f3, f3)\n",
    "\n",
    "        self.optimizer = optim.Adam(self.parameters(), lr=alpha)\n",
    "        self.device = T.device('cuda:0' if T.cuda.is_available() else 'cpu')\n",
    "\n",
    "        self.to(self.device)\n",
    "\n",
    "    def forward(self, state):\n",
    "        x = self.fc1(state)\n",
    "        x = self.bn1(x)\n",
    "        x = F.relu(x)\n",
    "        x = self.fc2(x)\n",
    "        x = self.bn2(x)\n",
    "        x = F.relu(x)\n",
    "        x = T.tanh(self.mu(x))\n",
    "\n",
    "        return x\n",
    "\n",
    "    def save_checkpoint(self):\n",
    "        print('... saving checkpoint ...')\n",
    "        T.save(self.state_dict(), self.checkpoint_file)\n",
    "        print('checkpoint_file = ', self.checkpoint_file)\n",
    "\n",
    "\n",
    "    def load_checkpoint(self):\n",
    "        print('... loading checkpoint ...')\n",
    "        print('self.checkpoint_file=',self.checkpoint_file)\n",
    "        self.load_state_dict(T.load(self.checkpoint_file))\n",
    "\n",
    "    def save_best(self):\n",
    "        print('... saving best checkpoint ...')\n",
    "        checkpoint_file = os.path.join(self.checkpoint_dir, self.name+'_best')\n",
    "        T.save(self.state_dict(), checkpoint_file)"
   ]
  },
  {
   "cell_type": "markdown",
   "metadata": {
    "id": "d_Z5Tt4CoMmq"
   },
   "source": [
    "## Plot_learning_curve"
   ]
  },
  {
   "cell_type": "code",
   "execution_count": 30,
   "metadata": {
    "executionInfo": {
     "elapsed": 1439,
     "status": "ok",
     "timestamp": 1607693408848,
     "user": {
      "displayName": "Jose Zancada",
      "photoUrl": "https://lh3.googleusercontent.com/a-/AOh14GgUqwetssp3WDwHytWK2v1lsnWTW1yZHcSb_5NBtQ=s64",
      "userId": "01299264758485122813"
     },
     "user_tz": -60
    },
    "id": "fK4lDm9hoTfM"
   },
   "outputs": [],
   "source": [
    "def plot_learning_curve(x, scores, figure_file):\n",
    "    running_avg = np.zeros(len(scores))\n",
    "    for i in range(len(running_avg)):\n",
    "        running_avg[i] = np.mean(scores[max(0, i-100):(i+1)])\n",
    "    plt.plot(x, running_avg)\n",
    "    plt.title('Running average of previous 100 scores')\n",
    "    plt.savefig(figure_file)\n",
    "\n",
    "\n",
    "    print('figure_file = ', figure_file)\n"
   ]
  },
  {
   "cell_type": "markdown",
   "metadata": {
    "id": "-cEtTnKzgXpK"
   },
   "source": [
    "# main"
   ]
  },
  {
   "cell_type": "code",
   "execution_count": 31,
   "metadata": {
    "colab": {
     "base_uri": "https://localhost:8080/",
     "height": 417
    },
    "executionInfo": {
     "elapsed": 21548,
     "status": "ok",
     "timestamp": 1607693428964,
     "user": {
      "displayName": "Jose Zancada",
      "photoUrl": "https://lh3.googleusercontent.com/a-/AOh14GgUqwetssp3WDwHytWK2v1lsnWTW1yZHcSb_5NBtQ=s64",
      "userId": "01299264758485122813"
     },
     "user_tz": -60
    },
    "id": "HLqit54lgKoN",
    "outputId": "b5f7012b-3bb4-473c-c9fe-6a0b35a61989"
   },
   "outputs": [
    {
     "output_type": "stream",
     "name": "stdout",
     "text": [
      "... loading checkpoint ...\nself.checkpoint_file= D:/github/Practicando_RL_Aprendiendo/DDPG/tmp/ddpg\\actor_ddpg\n"
     ]
    },
    {
     "output_type": "error",
     "ename": "RuntimeError",
     "evalue": "Attempting to deserialize object on a CUDA device but torch.cuda.is_available() is False. If you are running on a CPU-only machine, please use torch.load with map_location=torch.device('cpu') to map your storages to the CPU.",
     "traceback": [
      "\u001b[1;31m---------------------------------------------------------------------------\u001b[0m",
      "\u001b[1;31mRuntimeError\u001b[0m                              Traceback (most recent call last)",
      "\u001b[1;32m<ipython-input-31-feb4b51d9777>\u001b[0m in \u001b[0;36m<module>\u001b[1;34m\u001b[0m\n\u001b[0;32m     14\u001b[0m \u001b[1;33m\u001b[0m\u001b[0m\n\u001b[0;32m     15\u001b[0m     \u001b[1;31m# load models\u001b[0m\u001b[1;33m\u001b[0m\u001b[1;33m\u001b[0m\u001b[1;33m\u001b[0m\u001b[0m\n\u001b[1;32m---> 16\u001b[1;33m     \u001b[0magent\u001b[0m\u001b[1;33m.\u001b[0m\u001b[0mload_models\u001b[0m\u001b[1;33m(\u001b[0m\u001b[1;33m)\u001b[0m\u001b[1;33m\u001b[0m\u001b[1;33m\u001b[0m\u001b[0m\n\u001b[0m\u001b[0;32m     17\u001b[0m     \u001b[1;31m# best_score = env.reward_range[0]\u001b[0m\u001b[1;33m\u001b[0m\u001b[1;33m\u001b[0m\u001b[1;33m\u001b[0m\u001b[0m\n\u001b[0;32m     18\u001b[0m     \u001b[0mbest_score\u001b[0m \u001b[1;33m=\u001b[0m \u001b[1;36m1\u001b[0m\u001b[1;33m\u001b[0m\u001b[1;33m\u001b[0m\u001b[0m\n",
      "\u001b[1;32m<ipython-input-24-ad4a9ce7736d>\u001b[0m in \u001b[0;36mload_models\u001b[1;34m(self)\u001b[0m\n\u001b[0;32m     50\u001b[0m \u001b[1;33m\u001b[0m\u001b[0m\n\u001b[0;32m     51\u001b[0m     \u001b[1;32mdef\u001b[0m \u001b[0mload_models\u001b[0m\u001b[1;33m(\u001b[0m\u001b[0mself\u001b[0m\u001b[1;33m)\u001b[0m\u001b[1;33m:\u001b[0m\u001b[1;33m\u001b[0m\u001b[1;33m\u001b[0m\u001b[0m\n\u001b[1;32m---> 52\u001b[1;33m         \u001b[0mself\u001b[0m\u001b[1;33m.\u001b[0m\u001b[0mactor\u001b[0m\u001b[1;33m.\u001b[0m\u001b[0mload_checkpoint\u001b[0m\u001b[1;33m(\u001b[0m\u001b[1;33m)\u001b[0m\u001b[1;33m\u001b[0m\u001b[1;33m\u001b[0m\u001b[0m\n\u001b[0m\u001b[0;32m     53\u001b[0m         \u001b[0mself\u001b[0m\u001b[1;33m.\u001b[0m\u001b[0mtarget_actor\u001b[0m\u001b[1;33m.\u001b[0m\u001b[0mload_checkpoint\u001b[0m\u001b[1;33m(\u001b[0m\u001b[1;33m)\u001b[0m\u001b[1;33m\u001b[0m\u001b[1;33m\u001b[0m\u001b[0m\n\u001b[0;32m     54\u001b[0m         \u001b[0mself\u001b[0m\u001b[1;33m.\u001b[0m\u001b[0mcritic\u001b[0m\u001b[1;33m.\u001b[0m\u001b[0mload_checkpoint\u001b[0m\u001b[1;33m(\u001b[0m\u001b[1;33m)\u001b[0m\u001b[1;33m\u001b[0m\u001b[1;33m\u001b[0m\u001b[0m\n",
      "\u001b[1;32m<ipython-input-29-462dc84d257f>\u001b[0m in \u001b[0;36mload_checkpoint\u001b[1;34m(self)\u001b[0m\n\u001b[0;32m    133\u001b[0m         \u001b[0mprint\u001b[0m\u001b[1;33m(\u001b[0m\u001b[1;34m'... loading checkpoint ...'\u001b[0m\u001b[1;33m)\u001b[0m\u001b[1;33m\u001b[0m\u001b[1;33m\u001b[0m\u001b[0m\n\u001b[0;32m    134\u001b[0m         \u001b[0mprint\u001b[0m\u001b[1;33m(\u001b[0m\u001b[1;34m'self.checkpoint_file='\u001b[0m\u001b[1;33m,\u001b[0m\u001b[0mself\u001b[0m\u001b[1;33m.\u001b[0m\u001b[0mcheckpoint_file\u001b[0m\u001b[1;33m)\u001b[0m\u001b[1;33m\u001b[0m\u001b[1;33m\u001b[0m\u001b[0m\n\u001b[1;32m--> 135\u001b[1;33m         \u001b[0mself\u001b[0m\u001b[1;33m.\u001b[0m\u001b[0mload_state_dict\u001b[0m\u001b[1;33m(\u001b[0m\u001b[0mT\u001b[0m\u001b[1;33m.\u001b[0m\u001b[0mload\u001b[0m\u001b[1;33m(\u001b[0m\u001b[0mself\u001b[0m\u001b[1;33m.\u001b[0m\u001b[0mcheckpoint_file\u001b[0m\u001b[1;33m)\u001b[0m\u001b[1;33m)\u001b[0m\u001b[1;33m\u001b[0m\u001b[1;33m\u001b[0m\u001b[0m\n\u001b[0m\u001b[0;32m    136\u001b[0m \u001b[1;33m\u001b[0m\u001b[0m\n\u001b[0;32m    137\u001b[0m     \u001b[1;32mdef\u001b[0m \u001b[0msave_best\u001b[0m\u001b[1;33m(\u001b[0m\u001b[0mself\u001b[0m\u001b[1;33m)\u001b[0m\u001b[1;33m:\u001b[0m\u001b[1;33m\u001b[0m\u001b[1;33m\u001b[0m\u001b[0m\n",
      "\u001b[1;32mF:\\producto\\Python\\Python36\\lib\\site-packages\\torch\\serialization.py\u001b[0m in \u001b[0;36mload\u001b[1;34m(f, map_location, pickle_module, **pickle_load_args)\u001b[0m\n\u001b[0;32m    592\u001b[0m                     \u001b[0mopened_file\u001b[0m\u001b[1;33m.\u001b[0m\u001b[0mseek\u001b[0m\u001b[1;33m(\u001b[0m\u001b[0morig_position\u001b[0m\u001b[1;33m)\u001b[0m\u001b[1;33m\u001b[0m\u001b[1;33m\u001b[0m\u001b[0m\n\u001b[0;32m    593\u001b[0m                     \u001b[1;32mreturn\u001b[0m \u001b[0mtorch\u001b[0m\u001b[1;33m.\u001b[0m\u001b[0mjit\u001b[0m\u001b[1;33m.\u001b[0m\u001b[0mload\u001b[0m\u001b[1;33m(\u001b[0m\u001b[0mopened_file\u001b[0m\u001b[1;33m)\u001b[0m\u001b[1;33m\u001b[0m\u001b[1;33m\u001b[0m\u001b[0m\n\u001b[1;32m--> 594\u001b[1;33m                 \u001b[1;32mreturn\u001b[0m \u001b[0m_load\u001b[0m\u001b[1;33m(\u001b[0m\u001b[0mopened_zipfile\u001b[0m\u001b[1;33m,\u001b[0m \u001b[0mmap_location\u001b[0m\u001b[1;33m,\u001b[0m \u001b[0mpickle_module\u001b[0m\u001b[1;33m,\u001b[0m \u001b[1;33m**\u001b[0m\u001b[0mpickle_load_args\u001b[0m\u001b[1;33m)\u001b[0m\u001b[1;33m\u001b[0m\u001b[1;33m\u001b[0m\u001b[0m\n\u001b[0m\u001b[0;32m    595\u001b[0m         \u001b[1;32mreturn\u001b[0m \u001b[0m_legacy_load\u001b[0m\u001b[1;33m(\u001b[0m\u001b[0mopened_file\u001b[0m\u001b[1;33m,\u001b[0m \u001b[0mmap_location\u001b[0m\u001b[1;33m,\u001b[0m \u001b[0mpickle_module\u001b[0m\u001b[1;33m,\u001b[0m \u001b[1;33m**\u001b[0m\u001b[0mpickle_load_args\u001b[0m\u001b[1;33m)\u001b[0m\u001b[1;33m\u001b[0m\u001b[1;33m\u001b[0m\u001b[0m\n\u001b[0;32m    596\u001b[0m \u001b[1;33m\u001b[0m\u001b[0m\n",
      "\u001b[1;32mF:\\producto\\Python\\Python36\\lib\\site-packages\\torch\\serialization.py\u001b[0m in \u001b[0;36m_load\u001b[1;34m(zip_file, map_location, pickle_module, pickle_file, **pickle_load_args)\u001b[0m\n\u001b[0;32m    851\u001b[0m     \u001b[0munpickler\u001b[0m \u001b[1;33m=\u001b[0m \u001b[0mpickle_module\u001b[0m\u001b[1;33m.\u001b[0m\u001b[0mUnpickler\u001b[0m\u001b[1;33m(\u001b[0m\u001b[0mdata_file\u001b[0m\u001b[1;33m,\u001b[0m \u001b[1;33m**\u001b[0m\u001b[0mpickle_load_args\u001b[0m\u001b[1;33m)\u001b[0m\u001b[1;33m\u001b[0m\u001b[1;33m\u001b[0m\u001b[0m\n\u001b[0;32m    852\u001b[0m     \u001b[0munpickler\u001b[0m\u001b[1;33m.\u001b[0m\u001b[0mpersistent_load\u001b[0m \u001b[1;33m=\u001b[0m \u001b[0mpersistent_load\u001b[0m\u001b[1;33m\u001b[0m\u001b[1;33m\u001b[0m\u001b[0m\n\u001b[1;32m--> 853\u001b[1;33m     \u001b[0mresult\u001b[0m \u001b[1;33m=\u001b[0m \u001b[0munpickler\u001b[0m\u001b[1;33m.\u001b[0m\u001b[0mload\u001b[0m\u001b[1;33m(\u001b[0m\u001b[1;33m)\u001b[0m\u001b[1;33m\u001b[0m\u001b[1;33m\u001b[0m\u001b[0m\n\u001b[0m\u001b[0;32m    854\u001b[0m \u001b[1;33m\u001b[0m\u001b[0m\n\u001b[0;32m    855\u001b[0m     \u001b[0mtorch\u001b[0m\u001b[1;33m.\u001b[0m\u001b[0m_utils\u001b[0m\u001b[1;33m.\u001b[0m\u001b[0m_validate_loaded_sparse_tensors\u001b[0m\u001b[1;33m(\u001b[0m\u001b[1;33m)\u001b[0m\u001b[1;33m\u001b[0m\u001b[1;33m\u001b[0m\u001b[0m\n",
      "\u001b[1;32mF:\\producto\\Python\\Python36\\lib\\site-packages\\torch\\serialization.py\u001b[0m in \u001b[0;36mpersistent_load\u001b[1;34m(saved_id)\u001b[0m\n\u001b[0;32m    843\u001b[0m         \u001b[0mdata_type\u001b[0m\u001b[1;33m,\u001b[0m \u001b[0mkey\u001b[0m\u001b[1;33m,\u001b[0m \u001b[0mlocation\u001b[0m\u001b[1;33m,\u001b[0m \u001b[0msize\u001b[0m \u001b[1;33m=\u001b[0m \u001b[0mdata\u001b[0m\u001b[1;33m\u001b[0m\u001b[1;33m\u001b[0m\u001b[0m\n\u001b[0;32m    844\u001b[0m         \u001b[1;32mif\u001b[0m \u001b[0mkey\u001b[0m \u001b[1;32mnot\u001b[0m \u001b[1;32min\u001b[0m \u001b[0mloaded_storages\u001b[0m\u001b[1;33m:\u001b[0m\u001b[1;33m\u001b[0m\u001b[1;33m\u001b[0m\u001b[0m\n\u001b[1;32m--> 845\u001b[1;33m             \u001b[0mload_tensor\u001b[0m\u001b[1;33m(\u001b[0m\u001b[0mdata_type\u001b[0m\u001b[1;33m,\u001b[0m \u001b[0msize\u001b[0m\u001b[1;33m,\u001b[0m \u001b[0mkey\u001b[0m\u001b[1;33m,\u001b[0m \u001b[0m_maybe_decode_ascii\u001b[0m\u001b[1;33m(\u001b[0m\u001b[0mlocation\u001b[0m\u001b[1;33m)\u001b[0m\u001b[1;33m)\u001b[0m\u001b[1;33m\u001b[0m\u001b[1;33m\u001b[0m\u001b[0m\n\u001b[0m\u001b[0;32m    846\u001b[0m         \u001b[0mstorage\u001b[0m \u001b[1;33m=\u001b[0m \u001b[0mloaded_storages\u001b[0m\u001b[1;33m[\u001b[0m\u001b[0mkey\u001b[0m\u001b[1;33m]\u001b[0m\u001b[1;33m\u001b[0m\u001b[1;33m\u001b[0m\u001b[0m\n\u001b[0;32m    847\u001b[0m         \u001b[1;32mreturn\u001b[0m \u001b[0mstorage\u001b[0m\u001b[1;33m\u001b[0m\u001b[1;33m\u001b[0m\u001b[0m\n",
      "\u001b[1;32mF:\\producto\\Python\\Python36\\lib\\site-packages\\torch\\serialization.py\u001b[0m in \u001b[0;36mload_tensor\u001b[1;34m(data_type, size, key, location)\u001b[0m\n\u001b[0;32m    832\u001b[0m \u001b[1;33m\u001b[0m\u001b[0m\n\u001b[0;32m    833\u001b[0m         \u001b[0mstorage\u001b[0m \u001b[1;33m=\u001b[0m \u001b[0mzip_file\u001b[0m\u001b[1;33m.\u001b[0m\u001b[0mget_storage_from_record\u001b[0m\u001b[1;33m(\u001b[0m\u001b[0mname\u001b[0m\u001b[1;33m,\u001b[0m \u001b[0msize\u001b[0m\u001b[1;33m,\u001b[0m \u001b[0mdtype\u001b[0m\u001b[1;33m)\u001b[0m\u001b[1;33m.\u001b[0m\u001b[0mstorage\u001b[0m\u001b[1;33m(\u001b[0m\u001b[1;33m)\u001b[0m\u001b[1;33m\u001b[0m\u001b[1;33m\u001b[0m\u001b[0m\n\u001b[1;32m--> 834\u001b[1;33m         \u001b[0mloaded_storages\u001b[0m\u001b[1;33m[\u001b[0m\u001b[0mkey\u001b[0m\u001b[1;33m]\u001b[0m \u001b[1;33m=\u001b[0m \u001b[0mrestore_location\u001b[0m\u001b[1;33m(\u001b[0m\u001b[0mstorage\u001b[0m\u001b[1;33m,\u001b[0m \u001b[0mlocation\u001b[0m\u001b[1;33m)\u001b[0m\u001b[1;33m\u001b[0m\u001b[1;33m\u001b[0m\u001b[0m\n\u001b[0m\u001b[0;32m    835\u001b[0m \u001b[1;33m\u001b[0m\u001b[0m\n\u001b[0;32m    836\u001b[0m     \u001b[1;32mdef\u001b[0m \u001b[0mpersistent_load\u001b[0m\u001b[1;33m(\u001b[0m\u001b[0msaved_id\u001b[0m\u001b[1;33m)\u001b[0m\u001b[1;33m:\u001b[0m\u001b[1;33m\u001b[0m\u001b[1;33m\u001b[0m\u001b[0m\n",
      "\u001b[1;32mF:\\producto\\Python\\Python36\\lib\\site-packages\\torch\\serialization.py\u001b[0m in \u001b[0;36mdefault_restore_location\u001b[1;34m(storage, location)\u001b[0m\n\u001b[0;32m    173\u001b[0m \u001b[1;32mdef\u001b[0m \u001b[0mdefault_restore_location\u001b[0m\u001b[1;33m(\u001b[0m\u001b[0mstorage\u001b[0m\u001b[1;33m,\u001b[0m \u001b[0mlocation\u001b[0m\u001b[1;33m)\u001b[0m\u001b[1;33m:\u001b[0m\u001b[1;33m\u001b[0m\u001b[1;33m\u001b[0m\u001b[0m\n\u001b[0;32m    174\u001b[0m     \u001b[1;32mfor\u001b[0m \u001b[0m_\u001b[0m\u001b[1;33m,\u001b[0m \u001b[0m_\u001b[0m\u001b[1;33m,\u001b[0m \u001b[0mfn\u001b[0m \u001b[1;32min\u001b[0m \u001b[0m_package_registry\u001b[0m\u001b[1;33m:\u001b[0m\u001b[1;33m\u001b[0m\u001b[1;33m\u001b[0m\u001b[0m\n\u001b[1;32m--> 175\u001b[1;33m         \u001b[0mresult\u001b[0m \u001b[1;33m=\u001b[0m \u001b[0mfn\u001b[0m\u001b[1;33m(\u001b[0m\u001b[0mstorage\u001b[0m\u001b[1;33m,\u001b[0m \u001b[0mlocation\u001b[0m\u001b[1;33m)\u001b[0m\u001b[1;33m\u001b[0m\u001b[1;33m\u001b[0m\u001b[0m\n\u001b[0m\u001b[0;32m    176\u001b[0m         \u001b[1;32mif\u001b[0m \u001b[0mresult\u001b[0m \u001b[1;32mis\u001b[0m \u001b[1;32mnot\u001b[0m \u001b[1;32mNone\u001b[0m\u001b[1;33m:\u001b[0m\u001b[1;33m\u001b[0m\u001b[1;33m\u001b[0m\u001b[0m\n\u001b[0;32m    177\u001b[0m             \u001b[1;32mreturn\u001b[0m \u001b[0mresult\u001b[0m\u001b[1;33m\u001b[0m\u001b[1;33m\u001b[0m\u001b[0m\n",
      "\u001b[1;32mF:\\producto\\Python\\Python36\\lib\\site-packages\\torch\\serialization.py\u001b[0m in \u001b[0;36m_cuda_deserialize\u001b[1;34m(obj, location)\u001b[0m\n\u001b[0;32m    149\u001b[0m \u001b[1;32mdef\u001b[0m \u001b[0m_cuda_deserialize\u001b[0m\u001b[1;33m(\u001b[0m\u001b[0mobj\u001b[0m\u001b[1;33m,\u001b[0m \u001b[0mlocation\u001b[0m\u001b[1;33m)\u001b[0m\u001b[1;33m:\u001b[0m\u001b[1;33m\u001b[0m\u001b[1;33m\u001b[0m\u001b[0m\n\u001b[0;32m    150\u001b[0m     \u001b[1;32mif\u001b[0m \u001b[0mlocation\u001b[0m\u001b[1;33m.\u001b[0m\u001b[0mstartswith\u001b[0m\u001b[1;33m(\u001b[0m\u001b[1;34m'cuda'\u001b[0m\u001b[1;33m)\u001b[0m\u001b[1;33m:\u001b[0m\u001b[1;33m\u001b[0m\u001b[1;33m\u001b[0m\u001b[0m\n\u001b[1;32m--> 151\u001b[1;33m         \u001b[0mdevice\u001b[0m \u001b[1;33m=\u001b[0m \u001b[0mvalidate_cuda_device\u001b[0m\u001b[1;33m(\u001b[0m\u001b[0mlocation\u001b[0m\u001b[1;33m)\u001b[0m\u001b[1;33m\u001b[0m\u001b[1;33m\u001b[0m\u001b[0m\n\u001b[0m\u001b[0;32m    152\u001b[0m         \u001b[1;32mif\u001b[0m \u001b[0mgetattr\u001b[0m\u001b[1;33m(\u001b[0m\u001b[0mobj\u001b[0m\u001b[1;33m,\u001b[0m \u001b[1;34m\"_torch_load_uninitialized\"\u001b[0m\u001b[1;33m,\u001b[0m \u001b[1;32mFalse\u001b[0m\u001b[1;33m)\u001b[0m\u001b[1;33m:\u001b[0m\u001b[1;33m\u001b[0m\u001b[1;33m\u001b[0m\u001b[0m\n\u001b[0;32m    153\u001b[0m             \u001b[0mstorage_type\u001b[0m \u001b[1;33m=\u001b[0m \u001b[0mgetattr\u001b[0m\u001b[1;33m(\u001b[0m\u001b[0mtorch\u001b[0m\u001b[1;33m.\u001b[0m\u001b[0mcuda\u001b[0m\u001b[1;33m,\u001b[0m \u001b[0mtype\u001b[0m\u001b[1;33m(\u001b[0m\u001b[0mobj\u001b[0m\u001b[1;33m)\u001b[0m\u001b[1;33m.\u001b[0m\u001b[0m__name__\u001b[0m\u001b[1;33m)\u001b[0m\u001b[1;33m\u001b[0m\u001b[1;33m\u001b[0m\u001b[0m\n",
      "\u001b[1;32mF:\\producto\\Python\\Python36\\lib\\site-packages\\torch\\serialization.py\u001b[0m in \u001b[0;36mvalidate_cuda_device\u001b[1;34m(location)\u001b[0m\n\u001b[0;32m    133\u001b[0m \u001b[1;33m\u001b[0m\u001b[0m\n\u001b[0;32m    134\u001b[0m     \u001b[1;32mif\u001b[0m \u001b[1;32mnot\u001b[0m \u001b[0mtorch\u001b[0m\u001b[1;33m.\u001b[0m\u001b[0mcuda\u001b[0m\u001b[1;33m.\u001b[0m\u001b[0mis_available\u001b[0m\u001b[1;33m(\u001b[0m\u001b[1;33m)\u001b[0m\u001b[1;33m:\u001b[0m\u001b[1;33m\u001b[0m\u001b[1;33m\u001b[0m\u001b[0m\n\u001b[1;32m--> 135\u001b[1;33m         raise RuntimeError('Attempting to deserialize object on a CUDA '\n\u001b[0m\u001b[0;32m    136\u001b[0m                            \u001b[1;34m'device but torch.cuda.is_available() is False. '\u001b[0m\u001b[1;33m\u001b[0m\u001b[1;33m\u001b[0m\u001b[0m\n\u001b[0;32m    137\u001b[0m                            \u001b[1;34m'If you are running on a CPU-only machine, '\u001b[0m\u001b[1;33m\u001b[0m\u001b[1;33m\u001b[0m\u001b[0m\n",
      "\u001b[1;31mRuntimeError\u001b[0m: Attempting to deserialize object on a CUDA device but torch.cuda.is_available() is False. If you are running on a CPU-only machine, please use torch.load with map_location=torch.device('cpu') to map your storages to the CPU."
     ]
    }
   ],
   "source": [
    "if __name__ == '__main__':\n",
    "    DIRECTORIO_BASE = '/content/drive/MyDrive/Colab_Notebooks/DDPG'\n",
    "    DIRECTORIO_BASE = 'D:/github/Practicando_RL_Aprendiendo/DDPG'\n",
    "\n",
    "    env = Env2()\n",
    "    agent = Agent(alpha=0.0001, beta=0.001, \n",
    "                    input_dims=(25,), tau=0.001,\n",
    "                    batch_size=64, fc1_dims=400, fc2_dims=300, \n",
    "                    n_actions=1)\n",
    "    n_games = 3\n",
    "    filename = 'car_' + str(agent.alpha) + '_beta_' + \\\n",
    "                str(agent.beta) + '_' + str(n_games) + '_games'\n",
    "    figure_file = DIRECTORIO_BASE + '/plots/' + filename + '.png'\n",
    "\n",
    "    # load models\n",
    "    agent.load_models()\n",
    "    # best_score = env.reward_range[0]\n",
    "    best_score = 1\n",
    "     \n",
    "    score_history = []\n",
    "    replayBuffer = ReplayBuffer(max_size=10000, input_shape=(25,), n_actions=1)\n",
    "\n",
    "    for i in range(n_games):\n",
    "        observation = env.reset()\n",
    "        done = False\n",
    "        score = 0\n",
    "        agent.noise.reset()\n",
    "        while not done:\n",
    "            action = agent.choose_action(observation)\n",
    "            observation_, reward, done, info = env.step(action)\n",
    "\n",
    "            replayBuffer.store_transition(observation, action, reward, observation_, done)\n",
    "\n",
    "            score += reward\n",
    "            observation = observation_\n",
    "        score_history.append(score)\n",
    "\n",
    "        print('episode ', i, 'score %.1f' % score)\n",
    "\n",
    "    x = [i+1 for i in range(n_games)]\n",
    "    plot_learning_curve(x, score_history, figure_file)\n",
    "    "
   ]
  },
  {
   "cell_type": "code",
   "execution_count": 10,
   "metadata": {
    "executionInfo": {
     "elapsed": 530,
     "status": "ok",
     "timestamp": 1607693728229,
     "user": {
      "displayName": "Jose Zancada",
      "photoUrl": "https://lh3.googleusercontent.com/a-/AOh14GgUqwetssp3WDwHytWK2v1lsnWTW1yZHcSb_5NBtQ=s64",
      "userId": "01299264758485122813"
     },
     "user_tz": -60
    },
    "id": "ZUHTts0QsbqJ"
   },
   "outputs": [
    {
     "output_type": "error",
     "ename": "NameError",
     "evalue": "name 'replayBuffer' is not defined",
     "traceback": [
      "\u001b[1;31m---------------------------------------------------------------------------\u001b[0m",
      "\u001b[1;31mNameError\u001b[0m                                 Traceback (most recent call last)",
      "\u001b[1;32m<ipython-input-10-139e591cc5b6>\u001b[0m in \u001b[0;36m<module>\u001b[1;34m\u001b[0m\n\u001b[0;32m      4\u001b[0m \u001b[0mt_15\u001b[0m \u001b[1;33m=\u001b[0m \u001b[0mnp\u001b[0m\u001b[1;33m.\u001b[0m\u001b[0marray\u001b[0m\u001b[1;33m(\u001b[0m\u001b[1;33m[\u001b[0m\u001b[0mk\u001b[0m \u001b[1;32mfor\u001b[0m \u001b[0mk\u001b[0m \u001b[1;32min\u001b[0m \u001b[0mrange\u001b[0m\u001b[1;33m(\u001b[0m\u001b[0mhora_ini\u001b[0m\u001b[1;33m*\u001b[0m\u001b[1;36m4\u001b[0m\u001b[1;33m,\u001b[0m \u001b[0mhora_fin\u001b[0m\u001b[1;33m*\u001b[0m\u001b[1;36m4\u001b[0m\u001b[1;33m)\u001b[0m\u001b[1;33m]\u001b[0m\u001b[1;33m)\u001b[0m\u001b[1;33m\u001b[0m\u001b[1;33m\u001b[0m\u001b[0m\n\u001b[0;32m      5\u001b[0m \u001b[1;33m\u001b[0m\u001b[0m\n\u001b[1;32m----> 6\u001b[1;33m \u001b[0mq\u001b[0m \u001b[1;33m=\u001b[0m \u001b[0mnp\u001b[0m\u001b[1;33m.\u001b[0m\u001b[0marray\u001b[0m\u001b[1;33m(\u001b[0m\u001b[1;33m[\u001b[0m\u001b[0mreplayBuffer\u001b[0m\u001b[1;33m.\u001b[0m\u001b[0mstate_memory\u001b[0m\u001b[1;33m[\u001b[0m\u001b[0mint\u001b[0m\u001b[1;33m(\u001b[0m\u001b[0mk\u001b[0m\u001b[1;33m)\u001b[0m\u001b[1;33m]\u001b[0m\u001b[1;33m[\u001b[0m\u001b[1;36m0\u001b[0m\u001b[1;33m]\u001b[0m \u001b[1;32mfor\u001b[0m \u001b[0mk\u001b[0m \u001b[1;32min\u001b[0m \u001b[0mt_15\u001b[0m\u001b[1;33m]\u001b[0m\u001b[1;33m)\u001b[0m\u001b[1;33m\u001b[0m\u001b[1;33m\u001b[0m\u001b[0m\n\u001b[0m\u001b[0;32m      7\u001b[0m \u001b[0mp\u001b[0m \u001b[1;33m=\u001b[0m \u001b[0mnp\u001b[0m\u001b[1;33m.\u001b[0m\u001b[0marray\u001b[0m\u001b[1;33m(\u001b[0m\u001b[1;33m[\u001b[0m\u001b[0mreplayBuffer\u001b[0m\u001b[1;33m.\u001b[0m\u001b[0mstate_memory\u001b[0m\u001b[1;33m[\u001b[0m\u001b[0mint\u001b[0m\u001b[1;33m(\u001b[0m\u001b[0mk\u001b[0m\u001b[1;33m)\u001b[0m\u001b[1;33m]\u001b[0m\u001b[1;33m[\u001b[0m\u001b[1;36m1\u001b[0m\u001b[1;33m]\u001b[0m \u001b[1;32mfor\u001b[0m \u001b[0mk\u001b[0m \u001b[1;32min\u001b[0m \u001b[0mt_15\u001b[0m\u001b[1;33m]\u001b[0m\u001b[1;33m)\u001b[0m\u001b[1;33m\u001b[0m\u001b[1;33m\u001b[0m\u001b[0m\n\u001b[0;32m      8\u001b[0m \u001b[0ma\u001b[0m \u001b[1;33m=\u001b[0m \u001b[0mnp\u001b[0m\u001b[1;33m.\u001b[0m\u001b[0marray\u001b[0m\u001b[1;33m(\u001b[0m\u001b[1;33m[\u001b[0m\u001b[0mreplayBuffer\u001b[0m\u001b[1;33m.\u001b[0m\u001b[0maction_memory\u001b[0m\u001b[1;33m[\u001b[0m\u001b[0mint\u001b[0m\u001b[1;33m(\u001b[0m\u001b[0mk\u001b[0m\u001b[1;33m)\u001b[0m\u001b[1;33m]\u001b[0m\u001b[1;33m[\u001b[0m\u001b[1;36m0\u001b[0m\u001b[1;33m]\u001b[0m \u001b[1;32mfor\u001b[0m \u001b[0mk\u001b[0m \u001b[1;32min\u001b[0m \u001b[0mt_15\u001b[0m\u001b[1;33m]\u001b[0m\u001b[1;33m)\u001b[0m\u001b[1;33m\u001b[0m\u001b[1;33m\u001b[0m\u001b[0m\n",
      "\u001b[1;32m<ipython-input-10-139e591cc5b6>\u001b[0m in \u001b[0;36m<listcomp>\u001b[1;34m(.0)\u001b[0m\n\u001b[0;32m      4\u001b[0m \u001b[0mt_15\u001b[0m \u001b[1;33m=\u001b[0m \u001b[0mnp\u001b[0m\u001b[1;33m.\u001b[0m\u001b[0marray\u001b[0m\u001b[1;33m(\u001b[0m\u001b[1;33m[\u001b[0m\u001b[0mk\u001b[0m \u001b[1;32mfor\u001b[0m \u001b[0mk\u001b[0m \u001b[1;32min\u001b[0m \u001b[0mrange\u001b[0m\u001b[1;33m(\u001b[0m\u001b[0mhora_ini\u001b[0m\u001b[1;33m*\u001b[0m\u001b[1;36m4\u001b[0m\u001b[1;33m,\u001b[0m \u001b[0mhora_fin\u001b[0m\u001b[1;33m*\u001b[0m\u001b[1;36m4\u001b[0m\u001b[1;33m)\u001b[0m\u001b[1;33m]\u001b[0m\u001b[1;33m)\u001b[0m\u001b[1;33m\u001b[0m\u001b[1;33m\u001b[0m\u001b[0m\n\u001b[0;32m      5\u001b[0m \u001b[1;33m\u001b[0m\u001b[0m\n\u001b[1;32m----> 6\u001b[1;33m \u001b[0mq\u001b[0m \u001b[1;33m=\u001b[0m \u001b[0mnp\u001b[0m\u001b[1;33m.\u001b[0m\u001b[0marray\u001b[0m\u001b[1;33m(\u001b[0m\u001b[1;33m[\u001b[0m\u001b[0mreplayBuffer\u001b[0m\u001b[1;33m.\u001b[0m\u001b[0mstate_memory\u001b[0m\u001b[1;33m[\u001b[0m\u001b[0mint\u001b[0m\u001b[1;33m(\u001b[0m\u001b[0mk\u001b[0m\u001b[1;33m)\u001b[0m\u001b[1;33m]\u001b[0m\u001b[1;33m[\u001b[0m\u001b[1;36m0\u001b[0m\u001b[1;33m]\u001b[0m \u001b[1;32mfor\u001b[0m \u001b[0mk\u001b[0m \u001b[1;32min\u001b[0m \u001b[0mt_15\u001b[0m\u001b[1;33m]\u001b[0m\u001b[1;33m)\u001b[0m\u001b[1;33m\u001b[0m\u001b[1;33m\u001b[0m\u001b[0m\n\u001b[0m\u001b[0;32m      7\u001b[0m \u001b[0mp\u001b[0m \u001b[1;33m=\u001b[0m \u001b[0mnp\u001b[0m\u001b[1;33m.\u001b[0m\u001b[0marray\u001b[0m\u001b[1;33m(\u001b[0m\u001b[1;33m[\u001b[0m\u001b[0mreplayBuffer\u001b[0m\u001b[1;33m.\u001b[0m\u001b[0mstate_memory\u001b[0m\u001b[1;33m[\u001b[0m\u001b[0mint\u001b[0m\u001b[1;33m(\u001b[0m\u001b[0mk\u001b[0m\u001b[1;33m)\u001b[0m\u001b[1;33m]\u001b[0m\u001b[1;33m[\u001b[0m\u001b[1;36m1\u001b[0m\u001b[1;33m]\u001b[0m \u001b[1;32mfor\u001b[0m \u001b[0mk\u001b[0m \u001b[1;32min\u001b[0m \u001b[0mt_15\u001b[0m\u001b[1;33m]\u001b[0m\u001b[1;33m)\u001b[0m\u001b[1;33m\u001b[0m\u001b[1;33m\u001b[0m\u001b[0m\n\u001b[0;32m      8\u001b[0m \u001b[0ma\u001b[0m \u001b[1;33m=\u001b[0m \u001b[0mnp\u001b[0m\u001b[1;33m.\u001b[0m\u001b[0marray\u001b[0m\u001b[1;33m(\u001b[0m\u001b[1;33m[\u001b[0m\u001b[0mreplayBuffer\u001b[0m\u001b[1;33m.\u001b[0m\u001b[0maction_memory\u001b[0m\u001b[1;33m[\u001b[0m\u001b[0mint\u001b[0m\u001b[1;33m(\u001b[0m\u001b[0mk\u001b[0m\u001b[1;33m)\u001b[0m\u001b[1;33m]\u001b[0m\u001b[1;33m[\u001b[0m\u001b[1;36m0\u001b[0m\u001b[1;33m]\u001b[0m \u001b[1;32mfor\u001b[0m \u001b[0mk\u001b[0m \u001b[1;32min\u001b[0m \u001b[0mt_15\u001b[0m\u001b[1;33m]\u001b[0m\u001b[1;33m)\u001b[0m\u001b[1;33m\u001b[0m\u001b[1;33m\u001b[0m\u001b[0m\n",
      "\u001b[1;31mNameError\u001b[0m: name 'replayBuffer' is not defined"
     ]
    }
   ],
   "source": [
    "hora_ini = 24*20\n",
    "hora_fin = hora_ini + 24*2\n",
    "\n",
    "t_15 = np.array([k for k in range(hora_ini*4, hora_fin*4)])\n",
    "\n",
    "q = np.array([replayBuffer.state_memory[int(k)][0] for k in t_15])\n",
    "p = np.array([replayBuffer.state_memory[int(k)][1] for k in t_15])\n",
    "a = np.array([replayBuffer.action_memory[int(k)][0] for k in t_15])\n",
    "\n",
    "delta_q = q[1:-1] - q[0:-2]"
   ]
  },
  {
   "cell_type": "code",
   "execution_count": 11,
   "metadata": {
    "colab": {
     "base_uri": "https://localhost:8080/",
     "height": 935
    },
    "executionInfo": {
     "elapsed": 2090,
     "status": "ok",
     "timestamp": 1607693751830,
     "user": {
      "displayName": "Jose Zancada",
      "photoUrl": "https://lh3.googleusercontent.com/a-/AOh14GgUqwetssp3WDwHytWK2v1lsnWTW1yZHcSb_5NBtQ=s64",
      "userId": "01299264758485122813"
     },
     "user_tz": -60
    },
    "id": "TZHMGZHx33hC",
    "outputId": "3006b66c-5ef2-4379-9301-47485d357e21"
   },
   "outputs": [
    {
     "output_type": "error",
     "ename": "NameError",
     "evalue": "name 'p' is not defined",
     "traceback": [
      "\u001b[1;31m---------------------------------------------------------------------------\u001b[0m",
      "\u001b[1;31mNameError\u001b[0m                                 Traceback (most recent call last)",
      "\u001b[1;32m<ipython-input-11-63e42a7f6502>\u001b[0m in \u001b[0;36m<module>\u001b[1;34m\u001b[0m\n\u001b[0;32m      1\u001b[0m \u001b[0mplt\u001b[0m\u001b[1;33m.\u001b[0m\u001b[0mfigure\u001b[0m\u001b[1;33m(\u001b[0m\u001b[0mfigsize\u001b[0m\u001b[1;33m=\u001b[0m\u001b[1;33m(\u001b[0m\u001b[1;36m20\u001b[0m\u001b[1;33m,\u001b[0m\u001b[1;36m16\u001b[0m\u001b[1;33m)\u001b[0m\u001b[1;33m)\u001b[0m\u001b[1;33m\u001b[0m\u001b[1;33m\u001b[0m\u001b[0m\n\u001b[0;32m      2\u001b[0m \u001b[0mplt\u001b[0m\u001b[1;33m.\u001b[0m\u001b[0msubplot\u001b[0m\u001b[1;33m(\u001b[0m\u001b[1;36m211\u001b[0m\u001b[1;33m)\u001b[0m\u001b[1;33m\u001b[0m\u001b[1;33m\u001b[0m\u001b[0m\n\u001b[1;32m----> 3\u001b[1;33m \u001b[0mplt\u001b[0m\u001b[1;33m.\u001b[0m\u001b[0mplot\u001b[0m\u001b[1;33m(\u001b[0m\u001b[0mt_15\u001b[0m\u001b[1;33m,\u001b[0m \u001b[0mp\u001b[0m\u001b[1;33m,\u001b[0m\u001b[1;34m'.-'\u001b[0m\u001b[1;33m,\u001b[0m\u001b[0mlabel\u001b[0m\u001b[1;33m=\u001b[0m\u001b[1;34m'p'\u001b[0m\u001b[1;33m)\u001b[0m\u001b[1;33m\u001b[0m\u001b[1;33m\u001b[0m\u001b[0m\n\u001b[0m\u001b[0;32m      4\u001b[0m \u001b[0mplt\u001b[0m\u001b[1;33m.\u001b[0m\u001b[0msubplot\u001b[0m\u001b[1;33m(\u001b[0m\u001b[1;36m212\u001b[0m\u001b[1;33m)\u001b[0m\u001b[1;33m\u001b[0m\u001b[1;33m\u001b[0m\u001b[0m\n\u001b[0;32m      5\u001b[0m \u001b[0mplt\u001b[0m\u001b[1;33m.\u001b[0m\u001b[0mbar\u001b[0m\u001b[1;33m(\u001b[0m\u001b[0mt_15\u001b[0m\u001b[1;33m,\u001b[0m \u001b[0mq\u001b[0m\u001b[1;33m,\u001b[0m\u001b[0mlabel\u001b[0m\u001b[1;33m=\u001b[0m\u001b[1;34m'q'\u001b[0m\u001b[1;33m)\u001b[0m\u001b[1;33m\u001b[0m\u001b[1;33m\u001b[0m\u001b[0m\n",
      "\u001b[1;31mNameError\u001b[0m: name 'p' is not defined"
     ]
    }
   ],
   "source": [
    "plt.figure(figsize=(20,16))\n",
    "plt.subplot(211)\n",
    "plt.plot(t_15, p,'.-',label='p')\n",
    "plt.subplot(212)\n",
    "plt.bar(t_15, q,label='q')\n",
    "plt.bar(t_15[1:-1], delta_q * 4, color='black', label='delta_q', alpha=0.5)\n",
    "plt.grid(True)\n",
    "plt.legend()"
   ]
  },
  {
   "cell_type": "code",
   "execution_count": 12,
   "metadata": {
    "colab": {
     "base_uri": "https://localhost:8080/",
     "height": 282
    },
    "executionInfo": {
     "elapsed": 641,
     "status": "ok",
     "timestamp": 1607693489078,
     "user": {
      "displayName": "Jose Zancada",
      "photoUrl": "https://lh3.googleusercontent.com/a-/AOh14GgUqwetssp3WDwHytWK2v1lsnWTW1yZHcSb_5NBtQ=s64",
      "userId": "01299264758485122813"
     },
     "user_tz": -60
    },
    "id": "bwLbnJaH4UAh",
    "outputId": "9c21b91b-598b-423b-b580-39fda0ca7fa5"
   },
   "outputs": [
    {
     "output_type": "error",
     "ename": "NameError",
     "evalue": "name 'a' is not defined",
     "traceback": [
      "\u001b[1;31m---------------------------------------------------------------------------\u001b[0m",
      "\u001b[1;31mNameError\u001b[0m                                 Traceback (most recent call last)",
      "\u001b[1;32m<ipython-input-12-adbaf25c868f>\u001b[0m in \u001b[0;36m<module>\u001b[1;34m\u001b[0m\n\u001b[1;32m----> 1\u001b[1;33m \u001b[0mplt\u001b[0m\u001b[1;33m.\u001b[0m\u001b[0mplot\u001b[0m\u001b[1;33m(\u001b[0m\u001b[0ma\u001b[0m\u001b[1;33m)\u001b[0m\u001b[1;33m\u001b[0m\u001b[1;33m\u001b[0m\u001b[0m\n\u001b[0m",
      "\u001b[1;31mNameError\u001b[0m: name 'a' is not defined"
     ]
    }
   ],
   "source": [
    "plt.plot(a)"
   ]
  },
  {
   "cell_type": "code",
   "execution_count": 13,
   "metadata": {
    "executionInfo": {
     "elapsed": 21511,
     "status": "aborted",
     "timestamp": 1607693428967,
     "user": {
      "displayName": "Jose Zancada",
      "photoUrl": "https://lh3.googleusercontent.com/a-/AOh14GgUqwetssp3WDwHytWK2v1lsnWTW1yZHcSb_5NBtQ=s64",
      "userId": "01299264758485122813"
     },
     "user_tz": -60
    },
    "id": "ZW7zlSoY5L0H"
   },
   "outputs": [
    {
     "output_type": "error",
     "ename": "TypeError",
     "evalue": "only size-1 arrays can be converted to Python scalars",
     "traceback": [
      "\u001b[1;31m---------------------------------------------------------------------------\u001b[0m",
      "\u001b[1;31mTypeError\u001b[0m                                 Traceback (most recent call last)",
      "\u001b[1;32m<ipython-input-13-c9706d854c39>\u001b[0m in \u001b[0;36m<module>\u001b[1;34m\u001b[0m\n\u001b[0;32m      2\u001b[0m \u001b[1;33m\u001b[0m\u001b[0m\n\u001b[0;32m      3\u001b[0m \u001b[0mx\u001b[0m \u001b[1;33m=\u001b[0m \u001b[0mnp\u001b[0m\u001b[1;33m.\u001b[0m\u001b[0mlinspace\u001b[0m\u001b[1;33m(\u001b[0m\u001b[1;36m0\u001b[0m\u001b[1;33m,\u001b[0m\u001b[1;36m100\u001b[0m\u001b[1;33m)\u001b[0m\u001b[1;33m\u001b[0m\u001b[1;33m\u001b[0m\u001b[0m\n\u001b[1;32m----> 4\u001b[1;33m \u001b[0mplt\u001b[0m\u001b[1;33m.\u001b[0m\u001b[0mplot\u001b[0m\u001b[1;33m(\u001b[0m\u001b[0mmath\u001b[0m\u001b[1;33m.\u001b[0m\u001b[0mtanh\u001b[0m\u001b[1;33m(\u001b[0m\u001b[0mx\u001b[0m\u001b[1;33m)\u001b[0m\u001b[1;33m)\u001b[0m\u001b[1;33m\u001b[0m\u001b[1;33m\u001b[0m\u001b[0m\n\u001b[0m",
      "\u001b[1;31mTypeError\u001b[0m: only size-1 arrays can be converted to Python scalars"
     ]
    }
   ],
   "source": [
    "import math\n",
    "\n",
    "x = np.linspace(0,100)\n",
    "plt.plot(math.tanh(x))\n"
   ]
  },
  {
   "cell_type": "code",
   "execution_count": null,
   "metadata": {
    "executionInfo": {
     "elapsed": 21502,
     "status": "aborted",
     "timestamp": 1607693428968,
     "user": {
      "displayName": "Jose Zancada",
      "photoUrl": "https://lh3.googleusercontent.com/a-/AOh14GgUqwetssp3WDwHytWK2v1lsnWTW1yZHcSb_5NBtQ=s64",
      "userId": "01299264758485122813"
     },
     "user_tz": -60
    },
    "id": "3YA-tMUI8BZx"
   },
   "outputs": [],
   "source": [
    "pwd"
   ]
  },
  {
   "cell_type": "code",
   "execution_count": null,
   "metadata": {
    "executionInfo": {
     "elapsed": 21495,
     "status": "aborted",
     "timestamp": 1607693428968,
     "user": {
      "displayName": "Jose Zancada",
      "photoUrl": "https://lh3.googleusercontent.com/a-/AOh14GgUqwetssp3WDwHytWK2v1lsnWTW1yZHcSb_5NBtQ=s64",
      "userId": "01299264758485122813"
     },
     "user_tz": -60
    },
    "id": "zmsdI3X7LolW"
   },
   "outputs": [],
   "source": []
  },
  {
   "cell_type": "code",
   "execution_count": null,
   "metadata": {
    "executionInfo": {
     "elapsed": 21491,
     "status": "aborted",
     "timestamp": 1607693428969,
     "user": {
      "displayName": "Jose Zancada",
      "photoUrl": "https://lh3.googleusercontent.com/a-/AOh14GgUqwetssp3WDwHytWK2v1lsnWTW1yZHcSb_5NBtQ=s64",
      "userId": "01299264758485122813"
     },
     "user_tz": -60
    },
    "id": "xXpP8obZ_eSD"
   },
   "outputs": [],
   "source": [
    "from google.colab import drive\n",
    "drive.mount('/content/drive')"
   ]
  }
 ],
 "metadata": {
  "colab": {
   "collapsed_sections": [],
   "name": "ddpg_car_2.ipynb",
   "provenance": [
    {
     "file_id": "1RwqqN9SseiTsy9lks6UjfL28dJx64LD9",
     "timestamp": 1607672570889
    }
   ],
   "toc_visible": true
  },
  "kernelspec": {
   "display_name": "Python 3",
   "language": "python",
   "name": "python3"
  },
  "language_info": {
   "codemirror_mode": {
    "name": "ipython",
    "version": 3
   },
   "file_extension": ".py",
   "mimetype": "text/x-python",
   "name": "python",
   "nbconvert_exporter": "python",
   "pygments_lexer": "ipython3",
   "version": "3.6.8-final"
  }
 },
 "nbformat": 4,
 "nbformat_minor": 1
}